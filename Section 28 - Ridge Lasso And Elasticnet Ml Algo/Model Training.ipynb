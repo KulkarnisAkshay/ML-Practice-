{
 "cells": [
  {
   "cell_type": "code",
   "execution_count": 1,
   "id": "2ab11e7f-dccc-4be5-9d17-505157177c8c",
   "metadata": {},
   "outputs": [],
   "source": [
    "import pandas as pd\n",
    "import numpy as np\n",
    "import matplotlib.pyplot as plt\n",
    "import seaborn as sns\n",
    "%matplotlib inline"
   ]
  },
  {
   "cell_type": "code",
   "execution_count": 3,
   "id": "98f61a27-e82d-49fd-bdf8-1b3c0badb135",
   "metadata": {},
   "outputs": [
    {
     "data": {
      "text/html": [
       "<div>\n",
       "<style scoped>\n",
       "    .dataframe tbody tr th:only-of-type {\n",
       "        vertical-align: middle;\n",
       "    }\n",
       "\n",
       "    .dataframe tbody tr th {\n",
       "        vertical-align: top;\n",
       "    }\n",
       "\n",
       "    .dataframe thead th {\n",
       "        text-align: right;\n",
       "    }\n",
       "</style>\n",
       "<table border=\"1\" class=\"dataframe\">\n",
       "  <thead>\n",
       "    <tr style=\"text-align: right;\">\n",
       "      <th></th>\n",
       "      <th>day</th>\n",
       "      <th>month</th>\n",
       "      <th>year</th>\n",
       "      <th>Temperature</th>\n",
       "      <th>RH</th>\n",
       "      <th>Ws</th>\n",
       "      <th>Rain</th>\n",
       "      <th>FFMC</th>\n",
       "      <th>DMC</th>\n",
       "      <th>DC</th>\n",
       "      <th>ISI</th>\n",
       "      <th>BUI</th>\n",
       "      <th>FWI</th>\n",
       "      <th>Classes</th>\n",
       "      <th>Region</th>\n",
       "    </tr>\n",
       "  </thead>\n",
       "  <tbody>\n",
       "    <tr>\n",
       "      <th>0</th>\n",
       "      <td>1</td>\n",
       "      <td>6</td>\n",
       "      <td>2012</td>\n",
       "      <td>29</td>\n",
       "      <td>57</td>\n",
       "      <td>18</td>\n",
       "      <td>0.0</td>\n",
       "      <td>65.7</td>\n",
       "      <td>3.4</td>\n",
       "      <td>7.6</td>\n",
       "      <td>1.3</td>\n",
       "      <td>3.4</td>\n",
       "      <td>0.5</td>\n",
       "      <td>not fire</td>\n",
       "      <td>0</td>\n",
       "    </tr>\n",
       "    <tr>\n",
       "      <th>1</th>\n",
       "      <td>2</td>\n",
       "      <td>6</td>\n",
       "      <td>2012</td>\n",
       "      <td>29</td>\n",
       "      <td>61</td>\n",
       "      <td>13</td>\n",
       "      <td>1.3</td>\n",
       "      <td>64.4</td>\n",
       "      <td>4.1</td>\n",
       "      <td>7.6</td>\n",
       "      <td>1.0</td>\n",
       "      <td>3.9</td>\n",
       "      <td>0.4</td>\n",
       "      <td>not fire</td>\n",
       "      <td>0</td>\n",
       "    </tr>\n",
       "    <tr>\n",
       "      <th>2</th>\n",
       "      <td>3</td>\n",
       "      <td>6</td>\n",
       "      <td>2012</td>\n",
       "      <td>26</td>\n",
       "      <td>82</td>\n",
       "      <td>22</td>\n",
       "      <td>13.1</td>\n",
       "      <td>47.1</td>\n",
       "      <td>2.5</td>\n",
       "      <td>7.1</td>\n",
       "      <td>0.3</td>\n",
       "      <td>2.7</td>\n",
       "      <td>0.1</td>\n",
       "      <td>not fire</td>\n",
       "      <td>0</td>\n",
       "    </tr>\n",
       "    <tr>\n",
       "      <th>3</th>\n",
       "      <td>4</td>\n",
       "      <td>6</td>\n",
       "      <td>2012</td>\n",
       "      <td>25</td>\n",
       "      <td>89</td>\n",
       "      <td>13</td>\n",
       "      <td>2.5</td>\n",
       "      <td>28.6</td>\n",
       "      <td>1.3</td>\n",
       "      <td>6.9</td>\n",
       "      <td>0.0</td>\n",
       "      <td>1.7</td>\n",
       "      <td>0.0</td>\n",
       "      <td>not fire</td>\n",
       "      <td>0</td>\n",
       "    </tr>\n",
       "    <tr>\n",
       "      <th>4</th>\n",
       "      <td>5</td>\n",
       "      <td>6</td>\n",
       "      <td>2012</td>\n",
       "      <td>27</td>\n",
       "      <td>77</td>\n",
       "      <td>16</td>\n",
       "      <td>0.0</td>\n",
       "      <td>64.8</td>\n",
       "      <td>3.0</td>\n",
       "      <td>14.2</td>\n",
       "      <td>1.2</td>\n",
       "      <td>3.9</td>\n",
       "      <td>0.5</td>\n",
       "      <td>not fire</td>\n",
       "      <td>0</td>\n",
       "    </tr>\n",
       "  </tbody>\n",
       "</table>\n",
       "</div>"
      ],
      "text/plain": [
       "   day  month  year  Temperature  RH  Ws  Rain  FFMC  DMC    DC  ISI  BUI  \\\n",
       "0    1      6  2012           29  57  18   0.0  65.7  3.4   7.6  1.3  3.4   \n",
       "1    2      6  2012           29  61  13   1.3  64.4  4.1   7.6  1.0  3.9   \n",
       "2    3      6  2012           26  82  22  13.1  47.1  2.5   7.1  0.3  2.7   \n",
       "3    4      6  2012           25  89  13   2.5  28.6  1.3   6.9  0.0  1.7   \n",
       "4    5      6  2012           27  77  16   0.0  64.8  3.0  14.2  1.2  3.9   \n",
       "\n",
       "   FWI      Classes  Region  \n",
       "0  0.5  not fire          0  \n",
       "1  0.4  not fire          0  \n",
       "2  0.1  not fire          0  \n",
       "3  0.0  not fire          0  \n",
       "4  0.5  not fire          0  "
      ]
     },
     "execution_count": 3,
     "metadata": {},
     "output_type": "execute_result"
    }
   ],
   "source": [
    "df=pd.read_csv('Algerian_forest_fires_dataset_cleanned_dataset.csv')\n",
    "df.head()"
   ]
  },
  {
   "cell_type": "code",
   "execution_count": 4,
   "id": "806a103f-966c-4549-b102-98c638b224e4",
   "metadata": {},
   "outputs": [
    {
     "data": {
      "text/plain": [
       "Index(['day', 'month', 'year', 'Temperature', 'RH', 'Ws', 'Rain', 'FFMC',\n",
       "       'DMC', 'DC', 'ISI', 'BUI', 'FWI', 'Classes', 'Region'],\n",
       "      dtype='object')"
      ]
     },
     "execution_count": 4,
     "metadata": {},
     "output_type": "execute_result"
    }
   ],
   "source": [
    "df.columns"
   ]
  },
  {
   "cell_type": "code",
   "execution_count": 6,
   "id": "80f1e30d-f3fc-491c-995d-d3bce8f768b7",
   "metadata": {},
   "outputs": [],
   "source": [
    "df.drop(['day', 'month', 'year'],axis=1,inplace=True)"
   ]
  },
  {
   "cell_type": "code",
   "execution_count": 7,
   "id": "39402d1a-099d-471f-8ea6-65d08f6969eb",
   "metadata": {},
   "outputs": [
    {
     "data": {
      "text/html": [
       "<div>\n",
       "<style scoped>\n",
       "    .dataframe tbody tr th:only-of-type {\n",
       "        vertical-align: middle;\n",
       "    }\n",
       "\n",
       "    .dataframe tbody tr th {\n",
       "        vertical-align: top;\n",
       "    }\n",
       "\n",
       "    .dataframe thead th {\n",
       "        text-align: right;\n",
       "    }\n",
       "</style>\n",
       "<table border=\"1\" class=\"dataframe\">\n",
       "  <thead>\n",
       "    <tr style=\"text-align: right;\">\n",
       "      <th></th>\n",
       "      <th>Temperature</th>\n",
       "      <th>RH</th>\n",
       "      <th>Ws</th>\n",
       "      <th>Rain</th>\n",
       "      <th>FFMC</th>\n",
       "      <th>DMC</th>\n",
       "      <th>DC</th>\n",
       "      <th>ISI</th>\n",
       "      <th>BUI</th>\n",
       "      <th>FWI</th>\n",
       "      <th>Classes</th>\n",
       "      <th>Region</th>\n",
       "    </tr>\n",
       "  </thead>\n",
       "  <tbody>\n",
       "    <tr>\n",
       "      <th>0</th>\n",
       "      <td>29</td>\n",
       "      <td>57</td>\n",
       "      <td>18</td>\n",
       "      <td>0.0</td>\n",
       "      <td>65.7</td>\n",
       "      <td>3.4</td>\n",
       "      <td>7.6</td>\n",
       "      <td>1.3</td>\n",
       "      <td>3.4</td>\n",
       "      <td>0.5</td>\n",
       "      <td>not fire</td>\n",
       "      <td>0</td>\n",
       "    </tr>\n",
       "    <tr>\n",
       "      <th>1</th>\n",
       "      <td>29</td>\n",
       "      <td>61</td>\n",
       "      <td>13</td>\n",
       "      <td>1.3</td>\n",
       "      <td>64.4</td>\n",
       "      <td>4.1</td>\n",
       "      <td>7.6</td>\n",
       "      <td>1.0</td>\n",
       "      <td>3.9</td>\n",
       "      <td>0.4</td>\n",
       "      <td>not fire</td>\n",
       "      <td>0</td>\n",
       "    </tr>\n",
       "    <tr>\n",
       "      <th>2</th>\n",
       "      <td>26</td>\n",
       "      <td>82</td>\n",
       "      <td>22</td>\n",
       "      <td>13.1</td>\n",
       "      <td>47.1</td>\n",
       "      <td>2.5</td>\n",
       "      <td>7.1</td>\n",
       "      <td>0.3</td>\n",
       "      <td>2.7</td>\n",
       "      <td>0.1</td>\n",
       "      <td>not fire</td>\n",
       "      <td>0</td>\n",
       "    </tr>\n",
       "    <tr>\n",
       "      <th>3</th>\n",
       "      <td>25</td>\n",
       "      <td>89</td>\n",
       "      <td>13</td>\n",
       "      <td>2.5</td>\n",
       "      <td>28.6</td>\n",
       "      <td>1.3</td>\n",
       "      <td>6.9</td>\n",
       "      <td>0.0</td>\n",
       "      <td>1.7</td>\n",
       "      <td>0.0</td>\n",
       "      <td>not fire</td>\n",
       "      <td>0</td>\n",
       "    </tr>\n",
       "    <tr>\n",
       "      <th>4</th>\n",
       "      <td>27</td>\n",
       "      <td>77</td>\n",
       "      <td>16</td>\n",
       "      <td>0.0</td>\n",
       "      <td>64.8</td>\n",
       "      <td>3.0</td>\n",
       "      <td>14.2</td>\n",
       "      <td>1.2</td>\n",
       "      <td>3.9</td>\n",
       "      <td>0.5</td>\n",
       "      <td>not fire</td>\n",
       "      <td>0</td>\n",
       "    </tr>\n",
       "  </tbody>\n",
       "</table>\n",
       "</div>"
      ],
      "text/plain": [
       "   Temperature  RH  Ws  Rain  FFMC  DMC    DC  ISI  BUI  FWI      Classes  \\\n",
       "0           29  57  18   0.0  65.7  3.4   7.6  1.3  3.4  0.5  not fire      \n",
       "1           29  61  13   1.3  64.4  4.1   7.6  1.0  3.9  0.4  not fire      \n",
       "2           26  82  22  13.1  47.1  2.5   7.1  0.3  2.7  0.1  not fire      \n",
       "3           25  89  13   2.5  28.6  1.3   6.9  0.0  1.7  0.0  not fire      \n",
       "4           27  77  16   0.0  64.8  3.0  14.2  1.2  3.9  0.5  not fire      \n",
       "\n",
       "   Region  \n",
       "0       0  \n",
       "1       0  \n",
       "2       0  \n",
       "3       0  \n",
       "4       0  "
      ]
     },
     "execution_count": 7,
     "metadata": {},
     "output_type": "execute_result"
    }
   ],
   "source": [
    "df.head()"
   ]
  },
  {
   "cell_type": "code",
   "execution_count": 8,
   "id": "9954c9bf-eae6-4e34-85d5-db5aabada6d7",
   "metadata": {},
   "outputs": [
    {
     "data": {
      "text/plain": [
       "Classes\n",
       "fire             131\n",
       "not fire         101\n",
       "fire               4\n",
       "fire               2\n",
       "not fire           2\n",
       "not fire           1\n",
       "not fire           1\n",
       "not fire           1\n",
       "Name: count, dtype: int64"
      ]
     },
     "execution_count": 8,
     "metadata": {},
     "output_type": "execute_result"
    }
   ],
   "source": [
    "df['Classes'].value_counts()"
   ]
  },
  {
   "cell_type": "code",
   "execution_count": 9,
   "id": "b75344fb-c36f-4a28-a6ef-c04977a5ab3c",
   "metadata": {},
   "outputs": [],
   "source": [
    "## Encoding\n",
    "df['Classes']=np.where(df['Classes'].str.contains(\"not fire\"),0,1)"
   ]
  },
  {
   "cell_type": "code",
   "execution_count": 11,
   "id": "de1b55d2-e01d-4690-a947-52b156152126",
   "metadata": {},
   "outputs": [
    {
     "data": {
      "text/html": [
       "<div>\n",
       "<style scoped>\n",
       "    .dataframe tbody tr th:only-of-type {\n",
       "        vertical-align: middle;\n",
       "    }\n",
       "\n",
       "    .dataframe tbody tr th {\n",
       "        vertical-align: top;\n",
       "    }\n",
       "\n",
       "    .dataframe thead th {\n",
       "        text-align: right;\n",
       "    }\n",
       "</style>\n",
       "<table border=\"1\" class=\"dataframe\">\n",
       "  <thead>\n",
       "    <tr style=\"text-align: right;\">\n",
       "      <th></th>\n",
       "      <th>Temperature</th>\n",
       "      <th>RH</th>\n",
       "      <th>Ws</th>\n",
       "      <th>Rain</th>\n",
       "      <th>FFMC</th>\n",
       "      <th>DMC</th>\n",
       "      <th>DC</th>\n",
       "      <th>ISI</th>\n",
       "      <th>BUI</th>\n",
       "      <th>FWI</th>\n",
       "      <th>Classes</th>\n",
       "      <th>Region</th>\n",
       "    </tr>\n",
       "  </thead>\n",
       "  <tbody>\n",
       "    <tr>\n",
       "      <th>0</th>\n",
       "      <td>29</td>\n",
       "      <td>57</td>\n",
       "      <td>18</td>\n",
       "      <td>0.0</td>\n",
       "      <td>65.7</td>\n",
       "      <td>3.4</td>\n",
       "      <td>7.6</td>\n",
       "      <td>1.3</td>\n",
       "      <td>3.4</td>\n",
       "      <td>0.5</td>\n",
       "      <td>0</td>\n",
       "      <td>0</td>\n",
       "    </tr>\n",
       "    <tr>\n",
       "      <th>1</th>\n",
       "      <td>29</td>\n",
       "      <td>61</td>\n",
       "      <td>13</td>\n",
       "      <td>1.3</td>\n",
       "      <td>64.4</td>\n",
       "      <td>4.1</td>\n",
       "      <td>7.6</td>\n",
       "      <td>1.0</td>\n",
       "      <td>3.9</td>\n",
       "      <td>0.4</td>\n",
       "      <td>0</td>\n",
       "      <td>0</td>\n",
       "    </tr>\n",
       "    <tr>\n",
       "      <th>2</th>\n",
       "      <td>26</td>\n",
       "      <td>82</td>\n",
       "      <td>22</td>\n",
       "      <td>13.1</td>\n",
       "      <td>47.1</td>\n",
       "      <td>2.5</td>\n",
       "      <td>7.1</td>\n",
       "      <td>0.3</td>\n",
       "      <td>2.7</td>\n",
       "      <td>0.1</td>\n",
       "      <td>0</td>\n",
       "      <td>0</td>\n",
       "    </tr>\n",
       "    <tr>\n",
       "      <th>3</th>\n",
       "      <td>25</td>\n",
       "      <td>89</td>\n",
       "      <td>13</td>\n",
       "      <td>2.5</td>\n",
       "      <td>28.6</td>\n",
       "      <td>1.3</td>\n",
       "      <td>6.9</td>\n",
       "      <td>0.0</td>\n",
       "      <td>1.7</td>\n",
       "      <td>0.0</td>\n",
       "      <td>0</td>\n",
       "      <td>0</td>\n",
       "    </tr>\n",
       "    <tr>\n",
       "      <th>4</th>\n",
       "      <td>27</td>\n",
       "      <td>77</td>\n",
       "      <td>16</td>\n",
       "      <td>0.0</td>\n",
       "      <td>64.8</td>\n",
       "      <td>3.0</td>\n",
       "      <td>14.2</td>\n",
       "      <td>1.2</td>\n",
       "      <td>3.9</td>\n",
       "      <td>0.5</td>\n",
       "      <td>0</td>\n",
       "      <td>0</td>\n",
       "    </tr>\n",
       "    <tr>\n",
       "      <th>5</th>\n",
       "      <td>31</td>\n",
       "      <td>67</td>\n",
       "      <td>14</td>\n",
       "      <td>0.0</td>\n",
       "      <td>82.6</td>\n",
       "      <td>5.8</td>\n",
       "      <td>22.2</td>\n",
       "      <td>3.1</td>\n",
       "      <td>7.0</td>\n",
       "      <td>2.5</td>\n",
       "      <td>1</td>\n",
       "      <td>0</td>\n",
       "    </tr>\n",
       "    <tr>\n",
       "      <th>6</th>\n",
       "      <td>33</td>\n",
       "      <td>54</td>\n",
       "      <td>13</td>\n",
       "      <td>0.0</td>\n",
       "      <td>88.2</td>\n",
       "      <td>9.9</td>\n",
       "      <td>30.5</td>\n",
       "      <td>6.4</td>\n",
       "      <td>10.9</td>\n",
       "      <td>7.2</td>\n",
       "      <td>1</td>\n",
       "      <td>0</td>\n",
       "    </tr>\n",
       "    <tr>\n",
       "      <th>7</th>\n",
       "      <td>30</td>\n",
       "      <td>73</td>\n",
       "      <td>15</td>\n",
       "      <td>0.0</td>\n",
       "      <td>86.6</td>\n",
       "      <td>12.1</td>\n",
       "      <td>38.3</td>\n",
       "      <td>5.6</td>\n",
       "      <td>13.5</td>\n",
       "      <td>7.1</td>\n",
       "      <td>1</td>\n",
       "      <td>0</td>\n",
       "    </tr>\n",
       "    <tr>\n",
       "      <th>8</th>\n",
       "      <td>25</td>\n",
       "      <td>88</td>\n",
       "      <td>13</td>\n",
       "      <td>0.2</td>\n",
       "      <td>52.9</td>\n",
       "      <td>7.9</td>\n",
       "      <td>38.8</td>\n",
       "      <td>0.4</td>\n",
       "      <td>10.5</td>\n",
       "      <td>0.3</td>\n",
       "      <td>0</td>\n",
       "      <td>0</td>\n",
       "    </tr>\n",
       "    <tr>\n",
       "      <th>9</th>\n",
       "      <td>28</td>\n",
       "      <td>79</td>\n",
       "      <td>12</td>\n",
       "      <td>0.0</td>\n",
       "      <td>73.2</td>\n",
       "      <td>9.5</td>\n",
       "      <td>46.3</td>\n",
       "      <td>1.3</td>\n",
       "      <td>12.6</td>\n",
       "      <td>0.9</td>\n",
       "      <td>0</td>\n",
       "      <td>0</td>\n",
       "    </tr>\n",
       "  </tbody>\n",
       "</table>\n",
       "</div>"
      ],
      "text/plain": [
       "   Temperature  RH  Ws  Rain  FFMC   DMC    DC  ISI   BUI  FWI  Classes  \\\n",
       "0           29  57  18   0.0  65.7   3.4   7.6  1.3   3.4  0.5        0   \n",
       "1           29  61  13   1.3  64.4   4.1   7.6  1.0   3.9  0.4        0   \n",
       "2           26  82  22  13.1  47.1   2.5   7.1  0.3   2.7  0.1        0   \n",
       "3           25  89  13   2.5  28.6   1.3   6.9  0.0   1.7  0.0        0   \n",
       "4           27  77  16   0.0  64.8   3.0  14.2  1.2   3.9  0.5        0   \n",
       "5           31  67  14   0.0  82.6   5.8  22.2  3.1   7.0  2.5        1   \n",
       "6           33  54  13   0.0  88.2   9.9  30.5  6.4  10.9  7.2        1   \n",
       "7           30  73  15   0.0  86.6  12.1  38.3  5.6  13.5  7.1        1   \n",
       "8           25  88  13   0.2  52.9   7.9  38.8  0.4  10.5  0.3        0   \n",
       "9           28  79  12   0.0  73.2   9.5  46.3  1.3  12.6  0.9        0   \n",
       "\n",
       "   Region  \n",
       "0       0  \n",
       "1       0  \n",
       "2       0  \n",
       "3       0  \n",
       "4       0  \n",
       "5       0  \n",
       "6       0  \n",
       "7       0  \n",
       "8       0  \n",
       "9       0  "
      ]
     },
     "execution_count": 11,
     "metadata": {},
     "output_type": "execute_result"
    }
   ],
   "source": [
    "df.head(10)"
   ]
  },
  {
   "cell_type": "code",
   "execution_count": 12,
   "id": "24973c40-6794-49e8-9c47-7dae8e79df44",
   "metadata": {},
   "outputs": [
    {
     "data": {
      "text/plain": [
       "Classes\n",
       "1    137\n",
       "0    106\n",
       "Name: count, dtype: int64"
      ]
     },
     "execution_count": 12,
     "metadata": {},
     "output_type": "execute_result"
    }
   ],
   "source": [
    "df['Classes'].value_counts()"
   ]
  },
  {
   "cell_type": "code",
   "execution_count": 13,
   "id": "4bb449dd-6671-4ade-8e14-fdd90acff586",
   "metadata": {},
   "outputs": [],
   "source": [
    "## Independant and dependant features\n",
    "X= df.drop('FWI',axis=1)\n",
    "y=df['FWI']"
   ]
  },
  {
   "cell_type": "code",
   "execution_count": 14,
   "id": "23c66632-7eab-4c2b-b35c-71ee5665ea45",
   "metadata": {},
   "outputs": [
    {
     "data": {
      "text/plain": [
       "0      0.5\n",
       "1      0.4\n",
       "2      0.1\n",
       "3      0.0\n",
       "4      0.5\n",
       "      ... \n",
       "238    6.5\n",
       "239    0.0\n",
       "240    0.2\n",
       "241    0.7\n",
       "242    0.5\n",
       "Name: FWI, Length: 243, dtype: float64"
      ]
     },
     "execution_count": 14,
     "metadata": {},
     "output_type": "execute_result"
    }
   ],
   "source": [
    "y"
   ]
  },
  {
   "cell_type": "code",
   "execution_count": 16,
   "id": "0988b2ad-8e4f-45e4-9354-41e2408c05bd",
   "metadata": {},
   "outputs": [],
   "source": [
    "#train test spilt\n",
    "from sklearn.model_selection import train_test_split\n",
    "X_train,X_test,y_train,y_test = train_test_split(X,y,test_size=0.25,random_state=45)"
   ]
  },
  {
   "cell_type": "code",
   "execution_count": 17,
   "id": "623045e7-e804-4cd2-9ffb-cbb22af8dfd4",
   "metadata": {},
   "outputs": [
    {
     "data": {
      "text/plain": [
       "((182, 11), (61, 11))"
      ]
     },
     "execution_count": 17,
     "metadata": {},
     "output_type": "execute_result"
    }
   ],
   "source": [
    "X_train.shape, X_test.shape"
   ]
  },
  {
   "cell_type": "code",
   "execution_count": 19,
   "id": "0d0308d0-d98e-4b7e-a68c-eb54233f4b36",
   "metadata": {},
   "outputs": [
    {
     "data": {
      "text/html": [
       "<div>\n",
       "<style scoped>\n",
       "    .dataframe tbody tr th:only-of-type {\n",
       "        vertical-align: middle;\n",
       "    }\n",
       "\n",
       "    .dataframe tbody tr th {\n",
       "        vertical-align: top;\n",
       "    }\n",
       "\n",
       "    .dataframe thead th {\n",
       "        text-align: right;\n",
       "    }\n",
       "</style>\n",
       "<table border=\"1\" class=\"dataframe\">\n",
       "  <thead>\n",
       "    <tr style=\"text-align: right;\">\n",
       "      <th></th>\n",
       "      <th>Temperature</th>\n",
       "      <th>RH</th>\n",
       "      <th>Ws</th>\n",
       "      <th>Rain</th>\n",
       "      <th>FFMC</th>\n",
       "      <th>DMC</th>\n",
       "      <th>DC</th>\n",
       "      <th>ISI</th>\n",
       "      <th>BUI</th>\n",
       "      <th>Classes</th>\n",
       "      <th>Region</th>\n",
       "    </tr>\n",
       "  </thead>\n",
       "  <tbody>\n",
       "    <tr>\n",
       "      <th>Temperature</th>\n",
       "      <td>1.000000</td>\n",
       "      <td>-0.660795</td>\n",
       "      <td>-0.278939</td>\n",
       "      <td>-0.370676</td>\n",
       "      <td>0.686037</td>\n",
       "      <td>0.489583</td>\n",
       "      <td>0.377292</td>\n",
       "      <td>0.625153</td>\n",
       "      <td>0.461357</td>\n",
       "      <td>0.531519</td>\n",
       "      <td>0.303753</td>\n",
       "    </tr>\n",
       "    <tr>\n",
       "      <th>RH</th>\n",
       "      <td>-0.660795</td>\n",
       "      <td>1.000000</td>\n",
       "      <td>0.229917</td>\n",
       "      <td>0.232069</td>\n",
       "      <td>-0.650166</td>\n",
       "      <td>-0.410087</td>\n",
       "      <td>-0.228161</td>\n",
       "      <td>-0.705548</td>\n",
       "      <td>-0.354014</td>\n",
       "      <td>-0.437177</td>\n",
       "      <td>-0.427609</td>\n",
       "    </tr>\n",
       "    <tr>\n",
       "      <th>Ws</th>\n",
       "      <td>-0.278939</td>\n",
       "      <td>0.229917</td>\n",
       "      <td>1.000000</td>\n",
       "      <td>0.274892</td>\n",
       "      <td>-0.170338</td>\n",
       "      <td>-0.015730</td>\n",
       "      <td>0.080056</td>\n",
       "      <td>-0.015707</td>\n",
       "      <td>0.024178</td>\n",
       "      <td>-0.106463</td>\n",
       "      <td>-0.249133</td>\n",
       "    </tr>\n",
       "    <tr>\n",
       "      <th>Rain</th>\n",
       "      <td>-0.370676</td>\n",
       "      <td>0.232069</td>\n",
       "      <td>0.274892</td>\n",
       "      <td>1.000000</td>\n",
       "      <td>-0.549174</td>\n",
       "      <td>-0.277992</td>\n",
       "      <td>-0.289827</td>\n",
       "      <td>-0.339779</td>\n",
       "      <td>-0.289332</td>\n",
       "      <td>-0.364482</td>\n",
       "      <td>-0.087988</td>\n",
       "    </tr>\n",
       "    <tr>\n",
       "      <th>FFMC</th>\n",
       "      <td>0.686037</td>\n",
       "      <td>-0.650166</td>\n",
       "      <td>-0.170338</td>\n",
       "      <td>-0.549174</td>\n",
       "      <td>1.000000</td>\n",
       "      <td>0.591452</td>\n",
       "      <td>0.496276</td>\n",
       "      <td>0.746234</td>\n",
       "      <td>0.579781</td>\n",
       "      <td>0.768765</td>\n",
       "      <td>0.245305</td>\n",
       "    </tr>\n",
       "    <tr>\n",
       "      <th>DMC</th>\n",
       "      <td>0.489583</td>\n",
       "      <td>-0.410087</td>\n",
       "      <td>-0.015730</td>\n",
       "      <td>-0.277992</td>\n",
       "      <td>0.591452</td>\n",
       "      <td>1.000000</td>\n",
       "      <td>0.881988</td>\n",
       "      <td>0.671494</td>\n",
       "      <td>0.982540</td>\n",
       "      <td>0.560499</td>\n",
       "      <td>0.210788</td>\n",
       "    </tr>\n",
       "    <tr>\n",
       "      <th>DC</th>\n",
       "      <td>0.377292</td>\n",
       "      <td>-0.228161</td>\n",
       "      <td>0.080056</td>\n",
       "      <td>-0.289827</td>\n",
       "      <td>0.496276</td>\n",
       "      <td>0.881988</td>\n",
       "      <td>1.000000</td>\n",
       "      <td>0.494381</td>\n",
       "      <td>0.943979</td>\n",
       "      <td>0.485457</td>\n",
       "      <td>-0.051156</td>\n",
       "    </tr>\n",
       "    <tr>\n",
       "      <th>ISI</th>\n",
       "      <td>0.625153</td>\n",
       "      <td>-0.705548</td>\n",
       "      <td>-0.015707</td>\n",
       "      <td>-0.339779</td>\n",
       "      <td>0.746234</td>\n",
       "      <td>0.671494</td>\n",
       "      <td>0.494381</td>\n",
       "      <td>1.000000</td>\n",
       "      <td>0.633688</td>\n",
       "      <td>0.726887</td>\n",
       "      <td>0.295307</td>\n",
       "    </tr>\n",
       "    <tr>\n",
       "      <th>BUI</th>\n",
       "      <td>0.461357</td>\n",
       "      <td>-0.354014</td>\n",
       "      <td>0.024178</td>\n",
       "      <td>-0.289332</td>\n",
       "      <td>0.579781</td>\n",
       "      <td>0.982540</td>\n",
       "      <td>0.943979</td>\n",
       "      <td>0.633688</td>\n",
       "      <td>1.000000</td>\n",
       "      <td>0.562938</td>\n",
       "      <td>0.110407</td>\n",
       "    </tr>\n",
       "    <tr>\n",
       "      <th>Classes</th>\n",
       "      <td>0.531519</td>\n",
       "      <td>-0.437177</td>\n",
       "      <td>-0.106463</td>\n",
       "      <td>-0.364482</td>\n",
       "      <td>0.768765</td>\n",
       "      <td>0.560499</td>\n",
       "      <td>0.485457</td>\n",
       "      <td>0.726887</td>\n",
       "      <td>0.562938</td>\n",
       "      <td>1.000000</td>\n",
       "      <td>0.179664</td>\n",
       "    </tr>\n",
       "    <tr>\n",
       "      <th>Region</th>\n",
       "      <td>0.303753</td>\n",
       "      <td>-0.427609</td>\n",
       "      <td>-0.249133</td>\n",
       "      <td>-0.087988</td>\n",
       "      <td>0.245305</td>\n",
       "      <td>0.210788</td>\n",
       "      <td>-0.051156</td>\n",
       "      <td>0.295307</td>\n",
       "      <td>0.110407</td>\n",
       "      <td>0.179664</td>\n",
       "      <td>1.000000</td>\n",
       "    </tr>\n",
       "  </tbody>\n",
       "</table>\n",
       "</div>"
      ],
      "text/plain": [
       "             Temperature        RH        Ws      Rain      FFMC       DMC  \\\n",
       "Temperature     1.000000 -0.660795 -0.278939 -0.370676  0.686037  0.489583   \n",
       "RH             -0.660795  1.000000  0.229917  0.232069 -0.650166 -0.410087   \n",
       "Ws             -0.278939  0.229917  1.000000  0.274892 -0.170338 -0.015730   \n",
       "Rain           -0.370676  0.232069  0.274892  1.000000 -0.549174 -0.277992   \n",
       "FFMC            0.686037 -0.650166 -0.170338 -0.549174  1.000000  0.591452   \n",
       "DMC             0.489583 -0.410087 -0.015730 -0.277992  0.591452  1.000000   \n",
       "DC              0.377292 -0.228161  0.080056 -0.289827  0.496276  0.881988   \n",
       "ISI             0.625153 -0.705548 -0.015707 -0.339779  0.746234  0.671494   \n",
       "BUI             0.461357 -0.354014  0.024178 -0.289332  0.579781  0.982540   \n",
       "Classes         0.531519 -0.437177 -0.106463 -0.364482  0.768765  0.560499   \n",
       "Region          0.303753 -0.427609 -0.249133 -0.087988  0.245305  0.210788   \n",
       "\n",
       "                   DC       ISI       BUI   Classes    Region  \n",
       "Temperature  0.377292  0.625153  0.461357  0.531519  0.303753  \n",
       "RH          -0.228161 -0.705548 -0.354014 -0.437177 -0.427609  \n",
       "Ws           0.080056 -0.015707  0.024178 -0.106463 -0.249133  \n",
       "Rain        -0.289827 -0.339779 -0.289332 -0.364482 -0.087988  \n",
       "FFMC         0.496276  0.746234  0.579781  0.768765  0.245305  \n",
       "DMC          0.881988  0.671494  0.982540  0.560499  0.210788  \n",
       "DC           1.000000  0.494381  0.943979  0.485457 -0.051156  \n",
       "ISI          0.494381  1.000000  0.633688  0.726887  0.295307  \n",
       "BUI          0.943979  0.633688  1.000000  0.562938  0.110407  \n",
       "Classes      0.485457  0.726887  0.562938  1.000000  0.179664  \n",
       "Region      -0.051156  0.295307  0.110407  0.179664  1.000000  "
      ]
     },
     "execution_count": 19,
     "metadata": {},
     "output_type": "execute_result"
    }
   ],
   "source": [
    "## Feature selection based on correlation\n",
    "X_train.corr()"
   ]
  },
  {
   "cell_type": "code",
   "execution_count": 22,
   "id": "80bf678e-82a1-487b-956a-a71b834b5f4f",
   "metadata": {},
   "outputs": [
    {
     "data": {
      "text/plain": [
       "<Axes: >"
      ]
     },
     "execution_count": 22,
     "metadata": {},
     "output_type": "execute_result"
    },
    {
     "data": {
      "image/png": "[encoded data removed]",
      "text/plain": [
       "<Figure size 1200x1000 with 2 Axes>"
      ]
     },
     "metadata": {},
     "output_type": "display_data"
    }
   ],
   "source": [
    "## check for multicollinearity\n",
    "plt.figure(figsize=(12,10))\n",
    "corr=X_train.corr()\n",
    "sns.heatmap(corr,annot=True)"
   ]
  },
  {
   "cell_type": "code",
   "execution_count": 23,
   "id": "d2bbcd9d-b50b-4211-969e-9e17f963e430",
   "metadata": {},
   "outputs": [],
   "source": [
    "def correlation(dataset, threshold):\n",
    "    col_corr = set()\n",
    "    corr_matrix = dataset.corr()\n",
    "    for i in range(len(corr_matrix.columns)):\n",
    "        for j in range(i):\n",
    "            if abs(corr_matrix.iloc[i,j]) > threshold:\n",
    "                colname = corr_matrix.columns[i]\n",
    "                col_corr.add(colname)\n",
    "    return col_corr"
   ]
  },
  {
   "cell_type": "code",
   "execution_count": 26,
   "id": "768de7f5-57d5-44a9-94f9-ef9852163d31",
   "metadata": {},
   "outputs": [],
   "source": [
    "## threshold -- domain experise\n",
    "corr_features = correlation(X_train,0.85)"
   ]
  },
  {
   "cell_type": "code",
   "execution_count": 27,
   "id": "f97d41ff-a922-41c1-9333-b227095adf28",
   "metadata": {},
   "outputs": [
    {
     "data": {
      "text/plain": [
       "((182, 9), (61, 9))"
      ]
     },
     "execution_count": 27,
     "metadata": {},
     "output_type": "execute_result"
    }
   ],
   "source": [
    "## drop features when corr is more than 0.85\n",
    "\n",
    "X_train.drop(corr_features,axis=1, inplace=True)\n",
    "X_test.drop(corr_features,axis=1, inplace=True)\n",
    "\n",
    "X_train.shape, X_test.shape"
   ]
  },
  {
   "cell_type": "markdown",
   "id": "929503f4-21c8-4755-ac6b-f51ad250bb14",
   "metadata": {},
   "source": [
    "### feature scaling or Standardization"
   ]
  },
  {
   "cell_type": "code",
   "execution_count": 28,
   "id": "394a0c5e-1901-4aeb-8e9c-da9153fba119",
   "metadata": {},
   "outputs": [],
   "source": [
    "from sklearn.preprocessing import StandardScaler\n",
    "scaler = StandardScaler()\n",
    "X_train_scaled = scaler.fit_transform(X_train)\n",
    "X_test_scaled = scaler.transform(X_test)"
   ]
  },
  {
   "cell_type": "code",
   "execution_count": 29,
   "id": "98af34dc-f8cb-4455-b52e-35b04085f604",
   "metadata": {},
   "outputs": [
    {
     "data": {
      "text/plain": [
       "array([[ 1.03973391,  0.00396204,  0.21039187, ...,  0.54677005,\n",
       "         0.85634884,  1.01105006],\n",
       "       [-0.03239964, -0.97934302, -0.52597966, ..., -0.71718494,\n",
       "        -1.16774842, -0.98907071],\n",
       "       [-0.30043303, -0.45491366, -1.63053696, ...,  0.15786082,\n",
       "         0.85634884, -0.98907071],\n",
       "       ...,\n",
       "       [-0.56846642, -1.37266504, -0.1577939 , ...,  0.88706562,\n",
       "         0.85634884,  1.01105006],\n",
       "       [ 1.57580069, -1.2415577 , -0.89416543, ..., -0.15812793,\n",
       "         0.85634884,  1.01105006],\n",
       "       [ 1.3077673 , -0.586021  , -0.52597966, ...,  0.78983831,\n",
       "         0.85634884,  1.01105006]])"
      ]
     },
     "execution_count": 29,
     "metadata": {},
     "output_type": "execute_result"
    }
   ],
   "source": [
    "X_train_scaled"
   ]
  },
  {
   "cell_type": "markdown",
   "id": "a4a434e9-4315-4814-8dab-0267910a4600",
   "metadata": {},
   "source": [
    "### boxplot to understand effect of standard scalar"
   ]
  },
  {
   "cell_type": "code",
   "execution_count": 31,
   "id": "2064291f-e8dd-4313-bf6a-1eb354e77f18",
   "metadata": {},
   "outputs": [
    {
     "data": {
      "text/plain": [
       "Text(0.5, 1.0, 'X_train after scalling')"
      ]
     },
     "execution_count": 31,
     "metadata": {},
     "output_type": "execute_result"
    },
    {
     "data": {
      "image/png": "[encoded data removed]",
      "text/plain": [
       "<Figure size 1500x500 with 3 Axes>"
      ]
     },
     "metadata": {},
     "output_type": "display_data"
    }
   ],
   "source": [
    "plt.subplots(figsize=(15,5))\n",
    "plt.subplot(1,2,1)\n",
    "sns.boxplot(data=X_train)\n",
    "plt.title('X_train before scalling')\n",
    "plt.subplot(1,2,2)\n",
    "sns.boxplot(data=X_train_scaled)\n",
    "plt.title('X_train after scalling')\n"
   ]
  },
  {
   "cell_type": "markdown",
   "id": "eb5d2b8b-4721-4b5d-8f76-d5423d6208a7",
   "metadata": {},
   "source": [
    "## Linear Regression Model"
   ]
  },
  {
   "cell_type": "code",
   "execution_count": 39,
   "id": "e01cf6b2-19b8-47c1-a440-66127ecf4914",
   "metadata": {},
   "outputs": [
    {
     "name": "stdout",
     "output_type": "stream",
     "text": [
      "Mean absolute error 0.7713645614904533\n",
      "R2 Score 0.90961932100668\n"
     ]
    },
    {
     "data": {
      "text/plain": [
       "<matplotlib.collections.PathCollection at 0x16c7bd78470>"
      ]
     },
     "execution_count": 39,
     "metadata": {},
     "output_type": "execute_result"
    },
    {
     "data": {
      "image/png": "[encoded data removed]",
      "text/plain": [
       "<Figure size 640x480 with 1 Axes>"
      ]
     },
     "metadata": {},
     "output_type": "display_data"
    }
   ],
   "source": [
    "from sklearn.linear_model import LinearRegression\n",
    "from sklearn.metrics import mean_absolute_error\n",
    "from sklearn.metrics import r2_score\n",
    "\n",
    "linreg = LinearRegression()\n",
    "linreg.fit(X_train_scaled,y_train)\n",
    "y_pred = linreg.predict(X_test_scaled)\n",
    "mae = mean_absolute_error(y_test,y_pred)\n",
    "score = r2_score(y_test,y_pred)\n",
    "\n",
    "print(\"Mean absolute error\", mae)\n",
    "print(\"R2 Score\" , score)\n",
    "\n",
    "plt.scatter(y_test,y_pred)"
   ]
  },
  {
   "cell_type": "markdown",
   "id": "07fb46ab-dc66-41d3-bc62-de4c3914c3b4",
   "metadata": {},
   "source": [
    "### lasso regression"
   ]
  },
  {
   "cell_type": "code",
   "execution_count": 41,
   "id": "264a227d-eec8-4bce-ac99-169e342c663a",
   "metadata": {},
   "outputs": [
    {
     "name": "stdout",
     "output_type": "stream",
     "text": [
      "Mean absolute error 1.1873366121992213\n",
      "R2 Score 0.9153377261039456\n"
     ]
    },
    {
     "data": {
      "text/plain": [
       "<matplotlib.collections.PathCollection at 0x16c7c08dbb0>"
      ]
     },
     "execution_count": 41,
     "metadata": {},
     "output_type": "execute_result"
    },
    {
     "data": {
      "image/png": "[encoded data removed]",
      "text/plain": [
       "<Figure size 640x480 with 1 Axes>"
      ]
     },
     "metadata": {},
     "output_type": "display_data"
    }
   ],
   "source": [
    "from sklearn.linear_model import Lasso\n",
    "from sklearn.metrics import mean_absolute_error\n",
    "from sklearn.metrics import r2_score\n",
    "\n",
    "lasso = Lasso()\n",
    "lasso.fit(X_train_scaled,y_train)\n",
    "y_pred = lasso.predict(X_test_scaled)\n",
    "mae = mean_absolute_error(y_test,y_pred)\n",
    "score = r2_score(y_test,y_pred)\n",
    "\n",
    "print(\"Mean absolute error\", mae)\n",
    "print(\"R2 Score\" , score)\n",
    "\n",
    "plt.scatter(y_test,y_pred)"
   ]
  },
  {
   "cell_type": "markdown",
   "id": "51716cda-be07-43cc-bd4a-2d6b2befaaa8",
   "metadata": {},
   "source": [
    "### Cross validation Lasso"
   ]
  },
  {
   "cell_type": "code",
   "execution_count": 64,
   "id": "54c8c885-ee01-469e-bcc9-367a4b4f419f",
   "metadata": {},
   "outputs": [
    {
     "name": "stdout",
     "output_type": "stream",
     "text": [
      "ean absolute error 0.759329489305944\n",
      "R2 score 0.9115326730057128\n"
     ]
    },
    {
     "data": {
      "image/png": "[encoded data removed]",
      "text/plain": [
       "<Figure size 640x480 with 1 Axes>"
      ]
     },
     "metadata": {},
     "output_type": "display_data"
    }
   ],
   "source": [
    "from sklearn.linear_model import LassoCV\n",
    "lassocv = LassoCV(cv=5)\n",
    "lassocv.fit(X_train_scaled,y_train)\n",
    "\n",
    "y_pred = lassocv.predict(X_test_scaled)\n",
    "plt.scatter(y_test,y_pred)\n",
    "mae=mean_absolute_error(y_test,y_pred)\n",
    "score =r2_score(y_test,y_pred)\n",
    "\n",
    "print(\"ean absolute error\", mae)\n",
    "print(\"R2 score\", score)"
   ]
  },
  {
   "cell_type": "code",
   "execution_count": 50,
   "id": "f49eea9a-fde3-497c-9b01-5260c0d059a5",
   "metadata": {},
   "outputs": [
    {
     "data": {
      "text/plain": [
       "0.018839552681517862"
      ]
     },
     "execution_count": 50,
     "metadata": {},
     "output_type": "execute_result"
    }
   ],
   "source": [
    "lassocv.alpha_"
   ]
  },
  {
   "cell_type": "code",
   "execution_count": 51,
   "id": "185a0ea8-b872-43d4-aa0a-459d9f550943",
   "metadata": {},
   "outputs": [
    {
     "data": {
      "text/plain": [
       "array([7.09297065, 6.61492817, 6.16910415, 5.75332717, 5.36557218,\n",
       "       5.00395057, 4.66670105, 4.35218102, 4.05885858, 3.7853051 ,\n",
       "       3.53018821, 3.29226534, 3.07037767, 2.86344449, 2.67045792,\n",
       "       2.49047799, 2.32262811, 2.16609075, 2.02010348, 1.88395527,\n",
       "       1.75698299, 1.63856822, 1.5281342 , 1.42514307, 1.3290932 ,\n",
       "       1.23951676, 1.15597748, 1.07806847, 1.00541026, 0.93764898,\n",
       "       0.87445457, 0.81551926, 0.76055599, 0.70929706, 0.66149282,\n",
       "       0.61691041, 0.57533272, 0.53655722, 0.50039506, 0.46667011,\n",
       "       0.4352181 , 0.40588586, 0.37853051, 0.35301882, 0.32922653,\n",
       "       0.30703777, 0.28634445, 0.26704579, 0.2490478 , 0.23226281,\n",
       "       0.21660907, 0.20201035, 0.18839553, 0.1756983 , 0.16385682,\n",
       "       0.15281342, 0.14251431, 0.13290932, 0.12395168, 0.11559775,\n",
       "       0.10780685, 0.10054103, 0.0937649 , 0.08744546, 0.08155193,\n",
       "       0.0760556 , 0.07092971, 0.06614928, 0.06169104, 0.05753327,\n",
       "       0.05365572, 0.05003951, 0.04666701, 0.04352181, 0.04058859,\n",
       "       0.03785305, 0.03530188, 0.03292265, 0.03070378, 0.02863444,\n",
       "       0.02670458, 0.02490478, 0.02322628, 0.02166091, 0.02020103,\n",
       "       0.01883955, 0.01756983, 0.01638568, 0.01528134, 0.01425143,\n",
       "       0.01329093, 0.01239517, 0.01155977, 0.01078068, 0.0100541 ,\n",
       "       0.00937649, 0.00874455, 0.00815519, 0.00760556, 0.00709297])"
      ]
     },
     "execution_count": 51,
     "metadata": {},
     "output_type": "execute_result"
    }
   ],
   "source": [
    "lassocv.alphas_"
   ]
  },
  {
   "cell_type": "code",
   "execution_count": 52,
   "id": "00325de6-5025-4027-893d-e457bd292794",
   "metadata": {},
   "outputs": [
    {
     "data": {
      "text/plain": [
       "array([[68.94264817, 94.96565083, 47.19676599, 41.33277872, 31.84725423],\n",
       "       [64.32256179, 94.96565083, 42.12761595, 35.76708914, 28.09323664],\n",
       "       [57.88328842, 94.96565083, 37.70177774, 30.94896234, 24.79605915],\n",
       "       [52.22327577, 87.44524513, 33.71269286, 26.77698902, 21.37061933],\n",
       "       [47.24503184, 77.99616764, 29.57901888, 23.16577473, 18.41342565],\n",
       "       [42.86349296, 69.77386744, 25.97676688, 20.04114237, 15.8617615 ],\n",
       "       [37.80469833, 62.61882342, 22.83708624, 17.33855984, 13.66179498],\n",
       "       [33.22014855, 55.24483812, 20.10017309, 15.00206878, 11.76623904],\n",
       "       [29.22322453, 48.59878275, 17.713983  , 12.98308263, 10.13423992],\n",
       "       [25.73767118, 42.79938551, 15.63298193, 11.23927025,  8.73034635],\n",
       "       [22.69750407, 37.73716545, 13.81826431,  9.73400971,  7.52380027],\n",
       "       [20.04529152, 33.31836388, 12.23524126,  8.43545984,  6.48792046],\n",
       "       [17.73056993, 29.45975578, 10.85404918,  7.31597868,  5.59941737],\n",
       "       [15.71083384, 26.08941028,  9.64869317,  6.351573  ,  4.83854655],\n",
       "       [13.94765716, 23.14469615,  8.59654442,  5.52146746,  4.18774029],\n",
       "       [12.40806129, 20.57107485,  7.67790308,  4.80749327,  3.63192372],\n",
       "       [11.06333401, 18.3210509 ,  6.87544456,  4.19402744,  3.15803546],\n",
       "       [ 9.88847532, 16.35272871,  6.17460845,  3.66747239,  2.75476178],\n",
       "       [ 8.86171575, 14.63119374,  5.56218884,  3.21603571,  2.4123059 ],\n",
       "       [ 7.96409734, 13.12446709,  5.02686238,  2.82949278,  2.12218746],\n",
       "       [ 7.17910902, 11.80520418,  4.55876792,  2.49898044,  1.87697407],\n",
       "       [ 6.49207483, 10.64958001,  4.14931656,  2.21686408,  1.67052197],\n",
       "       [ 5.89109673,  9.63683288,  3.79102679,  1.97639169,  1.49723233],\n",
       "       [ 5.364921  ,  8.74886812,  3.47738099,  1.77185046,  1.3523628 ],\n",
       "       [ 4.90403812,  7.96991316,  3.20270064,  1.59824981,  1.23181743],\n",
       "       [ 4.50016213,  7.2857228 ,  2.96196254,  1.45126995,  1.13206034],\n",
       "       [ 4.14607161,  6.68534424,  2.75101854,  1.3271733 ,  1.05004097],\n",
       "       [ 3.83547199,  6.15777538,  2.56601942,  1.22272731,  0.98312923],\n",
       "       [ 3.56287578,  5.6938945 ,  2.40368872,  1.13513746,  0.92905913],\n",
       "       [ 3.32349829,  5.28574509,  2.2611701 ,  1.06203285,  0.88587994],\n",
       "       [ 3.11316689,  4.92638412,  2.13597276,  1.00123687,  0.85191374],\n",
       "       [ 2.92824206,  4.6097516 ,  2.02592429,  0.95099698,  0.82569797],\n",
       "       [ 2.7654253 ,  4.33055699,  1.92912959,  0.90976074,  0.80604195],\n",
       "       [ 2.62221097,  4.08418033,  1.84393514,  0.87618963,  0.7918571 ],\n",
       "       [ 2.49603737,  3.86658614,  1.76889789,  0.84913064,  0.78223449],\n",
       "       [ 2.384793  ,  3.67424845,  1.7027552 ,  0.82759138,  0.77639692],\n",
       "       [ 2.28663473,  3.50370913,  1.64441825,  0.81071842,  0.77368077],\n",
       "       [ 2.19995269,  3.35305687,  1.59291742,  0.79777856,  0.77352032],\n",
       "       [ 2.1233403 ,  3.21952832,  1.54741366,  0.78814254,  0.77543431],\n",
       "       [ 2.05556826,  3.10105905,  1.50717377,  0.78130843,  0.77901413],\n",
       "       [ 1.99556184,  2.9958448 ,  1.4715568 ,  0.77673702,  0.78391373],\n",
       "       [ 1.94238111,  2.90230573,  1.44000229,  0.77407319,  0.78984083],\n",
       "       [ 1.89520376,  2.81905787,  1.41201996,  0.77298048,  0.79656779],\n",
       "       [ 1.85327497,  2.74488834,  1.38718079,  0.77317175,  0.80385252],\n",
       "       [ 1.81604212,  2.6787336 ,  1.36510918,  0.77440281,  0.81153902],\n",
       "       [ 1.78291009,  2.61966065,  1.34551525,  0.77646648,  0.81948415],\n",
       "       [ 1.75339478,  2.56685053,  1.3280335 ,  0.77918738,  0.82756933],\n",
       "       [ 1.72558603,  2.51925781,  1.31244825,  0.78241749,  0.82854159],\n",
       "       [ 1.68984405,  2.46451152,  1.29122732,  0.7860323 ,  0.82473387],\n",
       "       [ 1.65758792,  2.40804367,  1.26026611,  0.76773655,  0.82291321],\n",
       "       [ 1.62844306,  2.35836086,  1.23258811,  0.7296028 ,  0.82263876],\n",
       "       [ 1.60207769,  2.27819762,  1.17594179,  0.69747736,  0.82362014],\n",
       "       [ 1.54187436,  2.19837906,  1.12231577,  0.67046139,  0.82561153],\n",
       "       [ 1.46958733,  2.12967004,  1.07550559,  0.64782705,  0.77608941],\n",
       "       [ 1.40528791,  2.07013146,  1.03476793,  0.6289455 ,  0.72071791],\n",
       "       [ 1.3480346 ,  2.01925147,  0.99907412,  0.61330136,  0.67303458],\n",
       "       [ 1.29699894,  1.97551535,  0.96789618,  0.60036519,  0.63220327],\n",
       "       [ 1.25145463,  1.93795789,  0.94065431,  0.58976694,  0.5969518 ],\n",
       "       [ 1.21076432,  1.90574184,  0.91684423,  0.5811579 ,  0.56669743],\n",
       "       [ 1.17436845,  1.87814118,  0.8960268 ,  0.57423796,  0.54076149],\n",
       "       [ 1.14187599,  1.85452572,  0.87781956,  0.56874883,  0.51826335],\n",
       "       [ 1.11264615,  1.83434538,  0.86193079,  0.56446847,  0.49733398],\n",
       "       [ 1.08640838,  1.81710988,  0.84918238,  0.56121714,  0.48033245],\n",
       "       [ 1.06282706,  1.80270885,  0.83510705,  0.55593313,  0.46634313],\n",
       "       [ 1.04160748,  1.79198749,  0.82263823,  0.55144102,  0.45480042],\n",
       "       [ 1.02115141,  1.7831029 ,  0.81167018,  0.54786645,  0.4458493 ],\n",
       "       [ 0.99798422,  1.77578746,  0.80210023,  0.54506159,  0.4388818 ],\n",
       "       [ 0.97755776,  1.76611482,  0.79369569,  0.54290579,  0.43341239],\n",
       "       [ 0.95914667,  1.75581107,  0.78630862,  0.54129538,  0.42921008],\n",
       "       [ 0.94266014,  1.74686502,  0.7798193 ,  0.54026574,  0.42608043],\n",
       "       [ 0.9278277 ,  1.73912815,  0.77409537,  0.53948229,  0.42383057],\n",
       "       [ 0.91446395,  1.73266074,  0.76906164,  0.53901686,  0.42232556],\n",
       "       [ 0.90240897,  1.72687257,  0.76462469,  0.5388118 ,  0.42143605],\n",
       "       [ 0.8915214 ,  1.7218682 ,  0.76071119,  0.53848797,  0.42105366],\n",
       "       [ 0.88167633,  1.71754741,  0.75751989,  0.53886642,  0.42110213],\n",
       "       [ 0.87274305,  1.71381882,  0.75546576,  0.53952103,  0.4214655 ],\n",
       "       [ 0.86465794,  1.71060334,  0.75377186,  0.54026257,  0.42210105],\n",
       "       [ 0.85741375,  1.70783227,  0.75236723,  0.54106835,  0.42286335],\n",
       "       [ 0.85079788,  1.70562903,  0.75120969,  0.54191916,  0.42383105],\n",
       "       [ 0.84479863,  1.70357433,  0.75028636,  0.54279903,  0.42520949],\n",
       "       [ 0.83936053,  1.70179791,  0.74950666,  0.54369765,  0.42689791],\n",
       "       [ 0.8344198 ,  1.70058511,  0.74889003,  0.54459993,  0.4288267 ],\n",
       "       [ 0.82992598,  1.69948324,  0.74840186,  0.5454973 ,  0.43093331],\n",
       "       [ 0.8258341 ,  1.69880271,  0.7480225 ,  0.54638355,  0.43316568],\n",
       "       [ 0.82210418,  1.6982377 ,  0.74773475,  0.54725297,  0.43545373],\n",
       "       [ 0.81869965,  1.69775228,  0.7475704 ,  0.54824443,  0.43781322],\n",
       "       [ 0.81524251,  1.69736814,  0.74740722,  0.55027107,  0.44019015],\n",
       "       [ 0.81194004,  1.69712288,  0.74731141,  0.55223172,  0.44256047],\n",
       "       [ 0.8088992 ,  1.69695927,  0.74725998,  0.55407247,  0.44490468],\n",
       "       [ 0.8061156 ,  1.69680658,  0.74724482,  0.5558092 ,  0.4471602 ],\n",
       "       [ 0.80353577,  1.69669686,  0.74725932,  0.55745371,  0.44940875],\n",
       "       [ 0.80117826,  1.69664808,  0.74735882,  0.55902286,  0.45159425],\n",
       "       [ 0.79903113,  1.69668291,  0.7473983 ,  0.56050428,  0.45370908],\n",
       "       [ 0.79705723,  1.69669544,  0.74746614,  0.56188919,  0.45574818],\n",
       "       [ 0.79524415,  1.69671521,  0.74754743,  0.56319412,  0.45764572],\n",
       "       [ 0.79354695,  1.69674451,  0.74763735,  0.56442348,  0.45952429],\n",
       "       [ 0.79200722,  1.69686553,  0.74780713,  0.56557983,  0.46132249],\n",
       "       [ 0.79058953,  1.69695748,  0.74789154,  0.56668565,  0.46303762],\n",
       "       [ 0.7892814 ,  1.69703362,  0.7479863 ,  0.56771055,  0.46459404],\n",
       "       [ 0.7881036 ,  1.69710951,  0.74808707,  0.56867025,  0.46614372]])"
      ]
     },
     "execution_count": 52,
     "metadata": {},
     "output_type": "execute_result"
    }
   ],
   "source": [
    "lassocv.mse_path_"
   ]
  },
  {
   "cell_type": "markdown",
   "id": "87baec29-0a71-470d-80f2-da9fa7e8392d",
   "metadata": {},
   "source": [
    "### Ridge Regression model"
   ]
  },
  {
   "cell_type": "code",
   "execution_count": 42,
   "id": "65575054-3b14-4e3f-a359-d21d75699045",
   "metadata": {},
   "outputs": [
    {
     "name": "stdout",
     "output_type": "stream",
     "text": [
      "Mean absolute error 0.7619995110582065\n",
      "R2 Score 0.9123601798432848\n"
     ]
    },
    {
     "data": {
      "text/plain": [
       "<matplotlib.collections.PathCollection at 0x16c7d47f050>"
      ]
     },
     "execution_count": 42,
     "metadata": {},
     "output_type": "execute_result"
    },
    {
     "data": {
      "image/png": "[encoded data removed]",
      "text/plain": [
       "<Figure size 640x480 with 1 Axes>"
      ]
     },
     "metadata": {},
     "output_type": "display_data"
    }
   ],
   "source": [
    "from sklearn.linear_model import Ridge\n",
    "from sklearn.metrics import mean_absolute_error\n",
    "from sklearn.metrics import r2_score\n",
    "\n",
    "ridge = Ridge()\n",
    "ridge.fit(X_train_scaled,y_train)\n",
    "y_pred = ridge.predict(X_test_scaled)\n",
    "mae = mean_absolute_error(y_test,y_pred)\n",
    "score = r2_score(y_test,y_pred)\n",
    "\n",
    "print(\"Mean absolute error\", mae)\n",
    "print(\"R2 Score\" , score)\n",
    "\n",
    "plt.scatter(y_test,y_pred)"
   ]
  },
  {
   "cell_type": "markdown",
   "id": "d92e32c0-fb9e-492b-afbc-5a30648138bb",
   "metadata": {},
   "source": [
    "### Cross validation Ridge"
   ]
  },
  {
   "cell_type": "code",
   "execution_count": 58,
   "id": "d9199c58-c4af-44d0-b87e-2d866ab98e3f",
   "metadata": {},
   "outputs": [
    {
     "name": "stdout",
     "output_type": "stream",
     "text": [
      "ean absolute error 0.7619995110582065\n",
      "R2 score 0.9123601798432848\n"
     ]
    },
    {
     "data": {
      "image/png": "[encoded data removed]",
      "text/plain": [
       "<Figure size 640x480 with 1 Axes>"
      ]
     },
     "metadata": {},
     "output_type": "display_data"
    }
   ],
   "source": [
    "from sklearn.linear_model import RidgeCV\n",
    "ridgecv = RidgeCV(cv=5)\n",
    "ridgecv.fit(X_train_scaled,y_train)\n",
    "y_pred =ridgecv.predict(X_test_scaled)\n",
    "plt.scatter(y_test,y_pred)\n",
    "mae=mean_absolute_error(y_test,y_pred)\n",
    "score =r2_score(y_test,y_pred)\n",
    "print(\"ean absolute error\", mae)\n",
    "print(\"R2 score\", score)"
   ]
  },
  {
   "cell_type": "code",
   "execution_count": 59,
   "id": "a917f1e2-9cb3-4e8c-b44e-35f2551ecd95",
   "metadata": {},
   "outputs": [
    {
     "data": {
      "text/plain": [
       "1.0"
      ]
     },
     "execution_count": 59,
     "metadata": {},
     "output_type": "execute_result"
    }
   ],
   "source": [
    "ridgecv.alpha_"
   ]
  },
  {
   "cell_type": "code",
   "execution_count": 61,
   "id": "cb96a715-35cc-4d27-8611-15e49af2edf3",
   "metadata": {},
   "outputs": [
    {
     "data": {
      "text/plain": [
       "(0.1, 1.0, 10.0)"
      ]
     },
     "execution_count": 61,
     "metadata": {},
     "output_type": "execute_result"
    }
   ],
   "source": [
    "ridgecv.alphas"
   ]
  },
  {
   "cell_type": "code",
   "execution_count": 62,
   "id": "30423905-fe41-4c35-8d65-37121027b43e",
   "metadata": {},
   "outputs": [
    {
     "data": {
      "text/plain": [
       "<bound method BaseEstimator.get_params of RidgeCV(cv=5)>"
      ]
     },
     "execution_count": 62,
     "metadata": {},
     "output_type": "execute_result"
    }
   ],
   "source": [
    "ridgecv.get_params"
   ]
  },
  {
   "cell_type": "markdown",
   "id": "bed45b99-8d1a-4e3e-84c2-1fe917e91731",
   "metadata": {},
   "source": [
    "### Elasticnet Regression model"
   ]
  },
  {
   "cell_type": "code",
   "execution_count": 43,
   "id": "7b1703b4-7bd1-4a6f-b25b-6afafcbe2392",
   "metadata": {},
   "outputs": [
    {
     "name": "stdout",
     "output_type": "stream",
     "text": [
      "Mean absolute error 1.7157737929202213\n",
      "R2 Score 0.8844387249095774\n"
     ]
    },
    {
     "data": {
      "text/plain": [
       "<matplotlib.collections.PathCollection at 0x16c7d4a2150>"
      ]
     },
     "execution_count": 43,
     "metadata": {},
     "output_type": "execute_result"
    },
    {
     "data": {
      "image/png": "[encoded data removed]",
      "text/plain": [
       "<Figure size 640x480 with 1 Axes>"
      ]
     },
     "metadata": {},
     "output_type": "display_data"
    }
   ],
   "source": [
    "from sklearn.linear_model import ElasticNet\n",
    "from sklearn.metrics import mean_absolute_error\n",
    "from sklearn.metrics import r2_score\n",
    "\n",
    "elasticNet = ElasticNet()\n",
    "elasticNet.fit(X_train_scaled,y_train)\n",
    "y_pred = elasticNet.predict(X_test_scaled)\n",
    "mae = mean_absolute_error(y_test,y_pred)\n",
    "score = r2_score(y_test,y_pred)\n",
    "\n",
    "print(\"Mean absolute error\", mae)\n",
    "print(\"R2 Score\" , score)\n",
    "\n",
    "plt.scatter(y_test,y_pred)"
   ]
  },
  {
   "cell_type": "markdown",
   "id": "6ab73db5-1693-49e1-bf64-690f2e2824b1",
   "metadata": {},
   "source": [
    "### Cross Validation Elasticnet"
   ]
  },
  {
   "cell_type": "code",
   "execution_count": 63,
   "id": "a32c4497-9c58-45d7-989f-fb345669c118",
   "metadata": {},
   "outputs": [
    {
     "name": "stdout",
     "output_type": "stream",
     "text": [
      "ean absolute error 0.7555751191344473\n",
      "R2 score 0.9135767207434917\n"
     ]
    },
    {
     "data": {
      "image/png": "[encoded data removed]",
      "text/plain": [
       "<Figure size 640x480 with 1 Axes>"
      ]
     },
     "metadata": {},
     "output_type": "display_data"
    }
   ],
   "source": [
    "from sklearn.linear_model import ElasticNetCV\n",
    "elasticNetCV = ElasticNetCV(cv=5)\n",
    "elasticNetCV.fit(X_train_scaled,y_train)\n",
    "y_pred =elasticNetCV.predict(X_test_scaled)\n",
    "plt.scatter(y_test,y_pred)\n",
    "mae=mean_absolute_error(y_test,y_pred)\n",
    "score =r2_score(y_test,y_pred)\n",
    "print(\"ean absolute error\", mae)\n",
    "print(\"R2 score\", score)"
   ]
  },
  {
   "cell_type": "code",
   "execution_count": 65,
   "id": "1d3e3e58-9981-48bd-a95c-af1dfdb26ea3",
   "metadata": {},
   "outputs": [
    {
     "data": {
      "text/plain": [
       "0.014185941294919933"
      ]
     },
     "execution_count": 65,
     "metadata": {},
     "output_type": "execute_result"
    }
   ],
   "source": [
    "elasticNetCV.alpha_"
   ]
  },
  {
   "cell_type": "code",
   "execution_count": 68,
   "id": "01d7a421-4db8-48c7-a0ef-48765ec865eb",
   "metadata": {},
   "outputs": [
    {
     "data": {
      "text/plain": [
       "array([14.18594129, 13.22985633, 12.33820829, 11.50665435, 10.73114436,\n",
       "       10.00790114,  9.3334021 ,  8.70436204,  8.11771717,  7.5706102 ,\n",
       "        7.06037641,  6.58453067,  6.14075534,  5.72688898,  5.34091583,\n",
       "        4.98095598,  4.64525622,  4.3321815 ,  4.04020696,  3.76791054,\n",
       "        3.51396598,  3.27713643,  3.0562684 ,  2.85028614,  2.6581864 ,\n",
       "        2.47903353,  2.31195497,  2.15613694,  2.01082053,  1.87529795,\n",
       "        1.74890915,  1.63103852,  1.52111199,  1.41859413,  1.32298563,\n",
       "        1.23382083,  1.15066543,  1.07311444,  1.00079011,  0.93334021,\n",
       "        0.8704362 ,  0.81177172,  0.75706102,  0.70603764,  0.65845307,\n",
       "        0.61407553,  0.5726889 ,  0.53409158,  0.4980956 ,  0.46452562,\n",
       "        0.43321815,  0.4040207 ,  0.37679105,  0.3513966 ,  0.32771364,\n",
       "        0.30562684,  0.28502861,  0.26581864,  0.24790335,  0.2311955 ,\n",
       "        0.21561369,  0.20108205,  0.1875298 ,  0.17489091,  0.16310385,\n",
       "        0.1521112 ,  0.14185941,  0.13229856,  0.12338208,  0.11506654,\n",
       "        0.10731144,  0.10007901,  0.09333402,  0.08704362,  0.08117717,\n",
       "        0.0757061 ,  0.07060376,  0.06584531,  0.06140755,  0.05726889,\n",
       "        0.05340916,  0.04980956,  0.04645256,  0.04332181,  0.04040207,\n",
       "        0.03767911,  0.03513966,  0.03277136,  0.03056268,  0.02850286,\n",
       "        0.02658186,  0.02479034,  0.02311955,  0.02156137,  0.02010821,\n",
       "        0.01875298,  0.01748909,  0.01631039,  0.01521112,  0.01418594])"
      ]
     },
     "execution_count": 68,
     "metadata": {},
     "output_type": "execute_result"
    }
   ],
   "source": [
    "elasticNetCV.alphas_"
   ]
  },
  {
   "cell_type": "code",
   "execution_count": null,
   "id": "d9a87786-9006-4833-8c0f-b5be929c4978",
   "metadata": {},
   "outputs": [],
   "source": []
  }
 ],
 "metadata": {
  "kernelspec": {
   "display_name": "Python 3 (ipykernel)",
   "language": "python",
   "name": "python3"
  },
  "language_info": {
   "codemirror_mode": {
    "name": "ipython",
    "version": 3
   },
   "file_extension": ".py",
   "mimetype": "text/x-python",
   "name": "python",
   "nbconvert_exporter": "python",
   "pygments_lexer": "ipython3",
   "version": "3.9.13"
  }
 },
 "nbformat": 4,
 "nbformat_minor": 5
}
